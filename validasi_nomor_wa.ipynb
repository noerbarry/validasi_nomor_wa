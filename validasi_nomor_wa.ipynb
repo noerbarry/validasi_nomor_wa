{
  "cells": [
    {
      "cell_type": "markdown",
      "metadata": {
        "id": "view-in-github",
        "colab_type": "text"
      },
      "source": [
        "<a href=\"https://colab.research.google.com/github/noerbarry/validasi_nomor_wa/blob/main/validasi_nomor_wa.ipynb\" target=\"_parent\"><img src=\"https://colab.research.google.com/assets/colab-badge.svg\" alt=\"Open In Colab\"/></a>"
      ]
    },
    {
      "cell_type": "code",
      "execution_count": null,
      "metadata": {
        "colab": {
          "base_uri": "https://localhost:8080/"
        },
        "id": "Vmu8Wa3gNnPu",
        "outputId": "0ad12744-60a0-4034-abb4-08000595ea0e"
      },
      "outputs": [
        {
          "output_type": "stream",
          "name": "stdout",
          "text": [
            "6 aktif di WhatsApp\n"
          ]
        }
      ],
      "source": [
        "import requests\n",
        "import csv\n",
        "import os\n",
        "\n",
        "file_path = \"/content/nomor.csv\"  # Tentukan jalur file\n",
        "\n",
        "# Periksa apakah file ada\n",
        "if not os.path.exists(file_path):\n",
        "    print(\"Error: file nomor.csv tidak ditemukan!\")\n",
        "    exit(1)\n",
        "\n",
        "# Baca file CSV baris per baris\n",
        "with open(file_path, \"r\") as file:\n",
        "    reader = csv.DictReader(file)\n",
        "    for row in reader:\n",
        "        # Ekstrak nomor telepon dari kolom 'Phone_Number'\n",
        "        number = row['Phone_Number'].strip()  # Hapus spasi di awal/akhir jika ada\n",
        "\n",
        "        # Validasi nomor dengan melakukan permintaan ke API WhatsApp (Simulasi permintaan)\n",
        "        # Menyimulasikan respons yang berbeda untuk tujuan demonstrasi\n",
        "        respons_simulasi = requests.get(f\"https://api.whatsapp.com/send?phone={number}&text=test\")\n",
        "\n",
        "        if respons_simulasi.status_code == 200:\n",
        "            # Simulasi teks respons API untuk beberapa kasus\n",
        "            if int(number) % 2 == 0:\n",
        "                print(f\"{number} aktif di WhatsApp\")\n",
        "            else:\n",
        "                print(f\"{number} tidak aktif di WhatsApp\")\n",
        "        else:\n",
        "            print(f\"Terjadi kesalahan saat memeriksa {number}: Gagal terhubung ke API WhatsApp\")\n"
      ]
    }
  ],
  "metadata": {
    "colab": {
      "provenance": [],
      "authorship_tag": "ABX9TyNGW3GGyTdc75iklm6AgNIC",
      "include_colab_link": true
    },
    "kernelspec": {
      "display_name": "Python 3",
      "name": "python3"
    },
    "language_info": {
      "name": "python"
    }
  },
  "nbformat": 4,
  "nbformat_minor": 0
}