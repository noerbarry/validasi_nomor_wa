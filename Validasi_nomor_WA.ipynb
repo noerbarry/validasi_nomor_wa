{
  "cells": [
    {
      "cell_type": "markdown",
      "metadata": {
        "id": "view-in-github",
        "colab_type": "text"
      },
      "source": [
        "<a href=\"https://colab.research.google.com/github/noerbarry/validasi_nomor_wa/blob/main/Validasi_nomor_WA.ipynb\" target=\"_parent\"><img src=\"https://colab.research.google.com/assets/colab-badge.svg\" alt=\"Open In Colab\"/></a>"
      ]
    },
    {
      "cell_type": "code",
      "execution_count": 24,
      "metadata": {
        "colab": {
          "base_uri": "https://localhost:8080/"
        },
        "id": "Vmu8Wa3gNnPu",
        "outputId": "576762e1-a7da-487e-aec4-733afb679d32"
      },
      "outputs": [
        {
          "output_type": "stream",
          "name": "stdout",
          "text": [
            "6281297137230 aktif di WhatsApp\n",
            "6281386420479 tidak aktif di WhatsApp\n",
            "6281386420479 tidak aktif di WhatsApp\n",
            "6281386420479 tidak aktif di WhatsApp\n",
            "6281386420479 tidak aktif di WhatsApp\n",
            "6281386420479 tidak aktif di WhatsApp\n",
            "6281386420479 tidak aktif di WhatsApp\n",
            "6281386420479 tidak aktif di WhatsApp\n",
            "6281384248290 aktif di WhatsApp\n",
            "6281386420479 tidak aktif di WhatsApp\n",
            "6281386420479 tidak aktif di WhatsApp\n",
            "6285158526678 aktif di WhatsApp\n",
            "6281386420479 tidak aktif di WhatsApp\n",
            "6281386420479 tidak aktif di WhatsApp\n",
            "6281386420479 tidak aktif di WhatsApp\n",
            "6281386420479 tidak aktif di WhatsApp\n"
          ]
        }
      ],
      "source": [
        "import requests\n",
        "import csv\n",
        "import os\n",
        "\n",
        "file_path = \"/content/uploadnomor/nomor.csv\"  # Tentukan jalur file\n",
        "\n",
        "# Periksa apakah file ada\n",
        "if not os.path.exists(file_path):\n",
        "    print(\"Error: file nomor.csv tidak ditemukan!\")\n",
        "    exit(1)\n",
        "\n",
        "# Baca file CSV baris per baris\n",
        "with open(file_path, \"r\") as file:\n",
        "    reader = csv.DictReader(file)\n",
        "    for row in reader:\n",
        "        # Ekstrak nomor telepon dari kolom 'Phone_Number'\n",
        "        number = row['Phone_Number'].strip()  # Hapus spasi di awal/akhir jika ada\n",
        "\n",
        "        # Validasi nomor dengan melakukan permintaan ke API WhatsApp (Simulasi permintaan)\n",
        "        # Menyimulasikan respons yang berbeda untuk tujuan demonstrasi\n",
        "        respons_simulasi = requests.get(f\"https://api.whatsapp.com/send?phone={number}&text=test\")\n",
        "\n",
        "        if respons_simulasi.status_code == 200:\n",
        "            # Simulasi teks respons API untuk beberapa kasus\n",
        "            if int(number) % 2 == 0:\n",
        "                print(f\"{number} aktif di WhatsApp\")\n",
        "            else:\n",
        "                print(f\"{number} tidak aktif di WhatsApp\")\n",
        "        else:\n",
        "            print(f\"Terjadi kesalahan saat memeriksa {number}: Gagal terhubung ke API WhatsApp\")\n"
      ]
    },
    {
      "cell_type": "code",
      "source": [
        "import csv\n",
        "import requests\n",
        "\n",
        "# Fungsi untuk memvalidasi nomor WhatsApp\n",
        "def validate_whatsapp_number(number):\n",
        "    url = \"https://pabar-validasi-nomor-wa.vercel.app/api/validate\"\n",
        "    params = {\n",
        "        \"target\": number,\n",
        "        \"countryCode\": \"62\"\n",
        "    }\n",
        "\n",
        "    response = requests.get(url, params=params)\n",
        "\n",
        "    if response.status_code == 200:\n",
        "        return response.json()\n",
        "    else:\n",
        "        return f\"Request failed for number {number} with status code: {response.status_code}\"\n",
        "\n",
        "# Baca nomor telepon dari file CSV\n",
        "csv_file_path = '/content/nomor.csv'  # Ganti dengan path file CSV Anda\n",
        "with open(csv_file_path, 'r') as file:\n",
        "    reader = csv.reader(file)\n",
        "    header_skipped = False\n",
        "    for row in reader:\n",
        "        if not header_skipped:\n",
        "            header_skipped = True\n",
        "            continue  # Lewati header jika ada\n",
        "\n",
        "        if len(row) > 0:  # Pastikan baris memiliki setidaknya satu elemen\n",
        "            phone_number = row[0]  # Ambil nomor telepon dari kolom pertama (atau sesuaikan dengan kolom yang sesuai)\n",
        "            result = validate_whatsapp_number(phone_number)\n",
        "            print(f\"Nomor: {phone_number} - Response: {result}\")\n"
      ],
      "metadata": {
        "colab": {
          "base_uri": "https://localhost:8080/"
        },
        "id": "-HETacZn9LbT",
        "outputId": "40007521-c6f5-4ccf-af63-90eeef771c0f"
      },
      "execution_count": 25,
      "outputs": [
        {
          "output_type": "stream",
          "name": "stdout",
          "text": [
            "Nomor: 6281297137230 - Response: {'not_registered': [], 'registered': ['6281297137230'], 'status': True}\n",
            "Nomor: 6281386420479 - Response: {'not_registered': [], 'registered': ['6281386420479'], 'status': True}\n",
            "Nomor: 6281386420479 - Response: {'not_registered': [], 'registered': ['6281386420479'], 'status': True}\n",
            "Nomor: 6281386420479 - Response: {'not_registered': [], 'registered': ['6281386420479'], 'status': True}\n",
            "Nomor: 6281386420479 - Response: {'not_registered': [], 'registered': ['6281386420479'], 'status': True}\n",
            "Nomor: 6281386420479 - Response: {'not_registered': [], 'registered': ['6281386420479'], 'status': True}\n",
            "Nomor: 6281386420479 - Response: {'not_registered': [], 'registered': ['6281386420479'], 'status': True}\n",
            "Nomor: 6281386420479 - Response: {'not_registered': [], 'registered': ['6281386420479'], 'status': True}\n",
            "Nomor: 6281384248290 - Response: {'not_registered': [], 'registered': ['6281384248290'], 'status': True}\n",
            "Nomor: 6281386420479 - Response: {'not_registered': [], 'registered': ['6281386420479'], 'status': True}\n",
            "Nomor: 6281386420479 - Response: {'not_registered': [], 'registered': ['6281386420479'], 'status': True}\n",
            "Nomor: 6285158526678 - Response: {'not_registered': [], 'registered': ['6285158526678'], 'status': True}\n",
            "Nomor: 6281386420479 - Response: {'not_registered': [], 'registered': ['6281386420479'], 'status': True}\n",
            "Nomor: 6281386420479 - Response: {'not_registered': [], 'registered': ['6281386420479'], 'status': True}\n",
            "Nomor: 6281386420479 - Response: {'not_registered': [], 'registered': ['6281386420479'], 'status': True}\n",
            "Nomor: 6281386420479 - Response: {'not_registered': [], 'registered': ['6281386420479'], 'status': True}\n"
          ]
        }
      ]
    }
  ],
  "metadata": {
    "colab": {
      "provenance": [],
      "authorship_tag": "ABX9TyMiwcVj2LtnBeqPDI1M2XsV",
      "include_colab_link": true
    },
    "kernelspec": {
      "display_name": "Python 3",
      "name": "python3"
    },
    "language_info": {
      "name": "python"
    }
  },
  "nbformat": 4,
  "nbformat_minor": 0
}